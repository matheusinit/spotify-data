{
  "cells": [
    {
      "cell_type": "markdown",
      "metadata": {
        "id": "A5ek16KJYjG6"
      },
      "source": [
        "#### Preparação"
      ]
    },
    {
      "cell_type": "code",
      "execution_count": 33,
      "metadata": {
        "colab": {
          "base_uri": "https://localhost:8080/"
        },
        "id": "-VAwg4zGYjG7",
        "outputId": "6423aa95-2a88-4eb2-a80b-9ba5767fe0e3"
      },
      "outputs": [
        {
          "output_type": "stream",
          "name": "stdout",
          "text": [
            "                              track_name      artist(s)_name  artist_count  \\\n",
            "0    Seven (feat. Latto) (Explicit Ver.)    Latto, Jung Kook             2   \n",
            "1                                   LALA         Myke Towers             1   \n",
            "2                                vampire      Olivia Rodrigo             1   \n",
            "3                           Cruel Summer        Taylor Swift             1   \n",
            "4                         WHERE SHE GOES           Bad Bunny             1   \n",
            "..                                   ...                 ...           ...   \n",
            "948                         My Mind & Me        Selena Gomez             1   \n",
            "949            Bigger Than The Whole Sky        Taylor Swift             1   \n",
            "950                 A Veces (feat. Feid)  Feid, Paulo Londra             2   \n",
            "951                        En La De Ella  Feid, Sech, Jhayco             3   \n",
            "952                                Alone           Burna Boy             1   \n",
            "\n",
            "     released_year  released_month  released_day  in_spotify_playlists  \\\n",
            "0             2023               7            14                   553   \n",
            "1             2023               3            23                  1474   \n",
            "2             2023               6            30                  1397   \n",
            "3             2019               8            23                  7858   \n",
            "4             2023               5            18                  3133   \n",
            "..             ...             ...           ...                   ...   \n",
            "948           2022              11             3                   953   \n",
            "949           2022              10            21                  1180   \n",
            "950           2022              11             3                   573   \n",
            "951           2022              10            20                  1320   \n",
            "952           2022              11             4                   782   \n",
            "\n",
            "     in_spotify_charts    streams  in_apple_playlists  ...  bpm key   mode  \\\n",
            "0                  147  141381703                  43  ...  125   B  Major   \n",
            "1                   48  133716286                  48  ...   92  C#  Major   \n",
            "2                  113  140003974                  94  ...  138   F  Major   \n",
            "3                  100  800840817                 116  ...  170   A  Major   \n",
            "4                   50  303236322                  84  ...  144   A  Minor   \n",
            "..                 ...        ...                 ...  ...  ...  ..    ...   \n",
            "948                  0   91473363                  61  ...  144   A  Major   \n",
            "949                  0  121871870                   4  ...  166  F#  Major   \n",
            "950                  0   73513683                   2  ...   92  C#  Major   \n",
            "951                  0  133895612                  29  ...   97  C#  Major   \n",
            "952                  2   96007391                  27  ...   90   E  Minor   \n",
            "\n",
            "    danceability_%  valence_% energy_% acousticness_%  instrumentalness_%  \\\n",
            "0               80         89       83             31                   0   \n",
            "1               71         61       74              7                   0   \n",
            "2               51         32       53             17                   0   \n",
            "3               55         58       72             11                   0   \n",
            "4               65         23       80             14                  63   \n",
            "..             ...        ...      ...            ...                 ...   \n",
            "948             60         24       39             57                   0   \n",
            "949             42          7       24             83                   1   \n",
            "950             80         81       67              4                   0   \n",
            "951             82         67       77              8                   0   \n",
            "952             61         32       67             15                   0   \n",
            "\n",
            "     liveness_%  speechiness_%  \n",
            "0             8              4  \n",
            "1            10              4  \n",
            "2            31              6  \n",
            "3            11             15  \n",
            "4            11              6  \n",
            "..          ...            ...  \n",
            "948           8              3  \n",
            "949          12              6  \n",
            "950           8              6  \n",
            "951          12              5  \n",
            "952          11              5  \n",
            "\n",
            "[953 rows x 24 columns]\n"
          ]
        }
      ],
      "source": [
        "import pandas as pd\n",
        "\n",
        "df = pd.read_csv('/content/Popular_Spotify_Songs.csv', encoding='latin-1')\n",
        "\n",
        "print(df)\n",
        "\n",
        "df['streams'] = pd.to_numeric(df['streams'], errors='coerce').astype('Int64')"
      ]
    },
    {
      "cell_type": "markdown",
      "source": [
        "### Variáveis da população"
      ],
      "metadata": {
        "id": "EbQfyFhsa42P"
      }
    },
    {
      "cell_type": "code",
      "source": [
        "df.dtypes"
      ],
      "metadata": {
        "colab": {
          "base_uri": "https://localhost:8080/"
        },
        "id": "oex3iAbYbE2q",
        "outputId": "87f10c24-ae33-497d-9080-9b8ef3b1cc4d"
      },
      "execution_count": 34,
      "outputs": [
        {
          "output_type": "execute_result",
          "data": {
            "text/plain": [
              "track_name              object\n",
              "artist(s)_name          object\n",
              "artist_count             int64\n",
              "released_year            int64\n",
              "released_month           int64\n",
              "released_day             int64\n",
              "in_spotify_playlists     int64\n",
              "in_spotify_charts        int64\n",
              "streams                  Int64\n",
              "in_apple_playlists       int64\n",
              "in_apple_charts          int64\n",
              "in_deezer_playlists     object\n",
              "in_deezer_charts         int64\n",
              "in_shazam_charts        object\n",
              "bpm                      int64\n",
              "key                     object\n",
              "mode                    object\n",
              "danceability_%           int64\n",
              "valence_%                int64\n",
              "energy_%                 int64\n",
              "acousticness_%           int64\n",
              "instrumentalness_%       int64\n",
              "liveness_%               int64\n",
              "speechiness_%            int64\n",
              "dtype: object"
            ]
          },
          "metadata": {},
          "execution_count": 34
        }
      ]
    },
    {
      "cell_type": "markdown",
      "metadata": {
        "id": "LFkGDKD_YjG-"
      },
      "source": [
        "#### Média"
      ]
    },
    {
      "cell_type": "code",
      "execution_count": 35,
      "metadata": {
        "colab": {
          "base_uri": "https://localhost:8080/"
        },
        "id": "TycRBY4qYjG-",
        "outputId": "f96fee62-45e4-45af-ba27-cf989079a77a"
      },
      "outputs": [
        {
          "output_type": "execute_result",
          "data": {
            "text/plain": [
              "514137424.93907565"
            ]
          },
          "metadata": {},
          "execution_count": 35
        }
      ],
      "source": [
        "df['streams'].mean()"
      ]
    },
    {
      "cell_type": "markdown",
      "metadata": {
        "id": "4-fP3Hz6YjG-"
      },
      "source": [
        "#### Desvio padrão"
      ]
    },
    {
      "cell_type": "code",
      "execution_count": 36,
      "metadata": {
        "colab": {
          "base_uri": "https://localhost:8080/"
        },
        "id": "vBw68AH1YjG-",
        "outputId": "54d7f451-6392-4d1e-92d6-e985ba4929e5"
      },
      "outputs": [
        {
          "output_type": "execute_result",
          "data": {
            "text/plain": [
              "566856949.038883"
            ]
          },
          "metadata": {},
          "execution_count": 36
        }
      ],
      "source": [
        "df['streams'].std()"
      ]
    },
    {
      "cell_type": "markdown",
      "metadata": {
        "id": "LRjXvqkAYjG-"
      },
      "source": [
        "#### Mínimo e máximo"
      ]
    },
    {
      "cell_type": "code",
      "execution_count": 37,
      "metadata": {
        "colab": {
          "base_uri": "https://localhost:8080/"
        },
        "id": "VaRulA8eYjG-",
        "outputId": "d0f0f5b0-e263-47c4-c909-8b19d4f6d37e"
      },
      "outputs": [
        {
          "output_type": "stream",
          "name": "stdout",
          "text": [
            "2762\n",
            "3703895074\n"
          ]
        }
      ],
      "source": [
        "print(df['streams'].min())\n",
        "print(df['streams'].max())"
      ]
    },
    {
      "cell_type": "markdown",
      "metadata": {
        "id": "IW8acofWYjG_"
      },
      "source": [
        "#### Scatter"
      ]
    },
    {
      "cell_type": "code",
      "execution_count": 38,
      "metadata": {
        "colab": {
          "base_uri": "https://localhost:8080/",
          "height": 472
        },
        "id": "N7aJhHi9YjG_",
        "outputId": "1766296d-1aef-494e-f061-bd43faa1c5f3"
      },
      "outputs": [
        {
          "output_type": "display_data",
          "data": {
            "text/plain": [
              "<Figure size 640x480 with 1 Axes>"
            ],
            "image/png": "[encoded data removed]"
          },
          "metadata": {}
        }
      ],
      "source": [
        "import matplotlib.pyplot as plt\n",
        "\n",
        "df['streams'].plot(kind='hist', bins=5)\n",
        "plt.title('Streams distribution')\n",
        "plt.xlabel('Streams')\n",
        "plt.ylabel('Frequency')\n",
        "\n",
        "plt.savefig('streams_distribution_histogram.png', dpi=300, format='png')\n",
        "\n",
        "plt.show()"
      ]
    },
    {
      "cell_type": "markdown",
      "metadata": {
        "id": "t-XXC6KsYjG_"
      },
      "source": [
        "#### Boxplot"
      ]
    },
    {
      "cell_type": "code",
      "execution_count": 39,
      "metadata": {
        "colab": {
          "base_uri": "https://localhost:8080/",
          "height": 452
        },
        "id": "qvn5ZMrpYjG_",
        "outputId": "f62a5a91-7c77-43af-be70-f87287044474"
      },
      "outputs": [
        {
          "output_type": "display_data",
          "data": {
            "text/plain": [
              "<Figure size 640x480 with 1 Axes>"
            ],
            "image/png": "[encoded data removed]"
          },
          "metadata": {}
        }
      ],
      "source": [
        "df.boxplot(column=['streams'])\n",
        "plt.title('Box Plot for Streams')\n",
        "\n",
        "plt.savefig('streams_boxplot.png', dpi=300, format='png')\n",
        "\n",
        "plt.show()"
      ]
    },
    {
      "cell_type": "markdown",
      "source": [
        "### Danceability"
      ],
      "metadata": {
        "id": "reUn39Z5d056"
      }
    },
    {
      "cell_type": "code",
      "source": [
        "danceability_column = df['danceability_%']\n",
        "\n",
        "mean = danceability_column.mean()\n",
        "median = danceability_column.median()\n",
        "standard = danceability_column.std()\n",
        "minimum = danceability_column.min()\n",
        "maximum = danceability_column.max()\n",
        "\n",
        "print(f\"mean: {mean}\")\n",
        "print(f\"median: {median}\")\n",
        "print(f\"standard: {standard}\")\n",
        "print(f\"minimum: {minimum}\")\n",
        "print(f\"maximum: {maximum}\")"
      ],
      "metadata": {
        "colab": {
          "base_uri": "https://localhost:8080/"
        },
        "id": "42aNitNoeAhe",
        "outputId": "d66e2042-1691-444d-bc3a-121d951c4bf2"
      },
      "execution_count": 40,
      "outputs": [
        {
          "output_type": "stream",
          "name": "stdout",
          "text": [
            "mean: 66.96956977964324\n",
            "median: 69.0\n",
            "standard: 14.630609874434809\n",
            "minimum: 23\n",
            "maximum: 96\n"
          ]
        }
      ]
    },
    {
      "cell_type": "markdown",
      "source": [
        "### Energy"
      ],
      "metadata": {
        "id": "brYc3dFfhlGP"
      }
    },
    {
      "cell_type": "code",
      "source": [
        "energy = df['energy_%']\n",
        "\n",
        "mean = energy.mean()\n",
        "median = energy.median()\n",
        "standard = energy.std()\n",
        "minimum = energy.min()\n",
        "maximum = energy.max()\n",
        "\n",
        "print(f\"mean: {mean}\")\n",
        "print(f\"median: {median}\")\n",
        "print(f\"standard: {standard}\")\n",
        "print(f\"minimum: {minimum}\")\n",
        "print(f\"maximum: {maximum}\")"
      ],
      "metadata": {
        "colab": {
          "base_uri": "https://localhost:8080/"
        },
        "id": "UgGzwNgyhm0m",
        "outputId": "4623b23a-9922-4d65-b3ac-af136f37cd6b"
      },
      "execution_count": 41,
      "outputs": [
        {
          "output_type": "stream",
          "name": "stdout",
          "text": [
            "mean: 64.2791185729276\n",
            "median: 66.0\n",
            "standard: 16.55052597794523\n",
            "minimum: 9\n",
            "maximum: 97\n"
          ]
        }
      ]
    },
    {
      "cell_type": "markdown",
      "source": [
        "### Acousticness"
      ],
      "metadata": {
        "id": "q2k4gSRZh4Ai"
      }
    },
    {
      "cell_type": "code",
      "source": [
        "acousticness = df['acousticness_%']\n",
        "\n",
        "mean = acousticness.mean()\n",
        "median = acousticness.median()\n",
        "standard = acousticness.std()\n",
        "minimum = acousticness.min()\n",
        "maximum = acousticness.max()\n",
        "\n",
        "print(f\"mean: {mean}\")\n",
        "print(f\"median: {median}\")\n",
        "print(f\"standard: {standard}\")\n",
        "print(f\"minimum: {minimum}\")\n",
        "print(f\"maximum: {maximum}\")"
      ],
      "metadata": {
        "colab": {
          "base_uri": "https://localhost:8080/"
        },
        "id": "jdH1Uzj7h9Xw",
        "outputId": "2cc6d73b-029d-4f56-c0b4-3da4ecaea85d"
      },
      "execution_count": 42,
      "outputs": [
        {
          "output_type": "stream",
          "name": "stdout",
          "text": [
            "mean: 27.057712486883524\n",
            "median: 18.0\n",
            "standard: 25.99607731020374\n",
            "minimum: 0\n",
            "maximum: 97\n"
          ]
        }
      ]
    },
    {
      "cell_type": "markdown",
      "source": [
        "### In Spotify playlists"
      ],
      "metadata": {
        "id": "s3_bDNCTiNy6"
      }
    },
    {
      "cell_type": "code",
      "source": [
        "in_spotify_playlists = df['in_spotify_playlists']\n",
        "\n",
        "mean = in_spotify_playlists.mean()\n",
        "median = in_spotify_playlists.median()\n",
        "standard = in_spotify_playlists.std()\n",
        "minimum = in_spotify_playlists.min()\n",
        "maximum = in_spotify_playlists.max()\n",
        "\n",
        "print(f\"mean: {mean}\")\n",
        "print(f\"median: {median}\")\n",
        "print(f\"standard: {standard}\")\n",
        "print(f\"minimum: {minimum}\")\n",
        "print(f\"maximum: {maximum}\")"
      ],
      "metadata": {
        "colab": {
          "base_uri": "https://localhost:8080/"
        },
        "id": "wB1fHVuFiQE0",
        "outputId": "eb9e41e0-6c98-4f28-e250-c8a2435535a6"
      },
      "execution_count": 43,
      "outputs": [
        {
          "output_type": "stream",
          "name": "stdout",
          "text": [
            "mean: 5200.124868835257\n",
            "median: 2224.0\n",
            "standard: 7897.608990375098\n",
            "minimum: 31\n",
            "maximum: 52898\n"
          ]
        }
      ]
    },
    {
      "cell_type": "markdown",
      "source": [
        "### Speechiness"
      ],
      "metadata": {
        "id": "k0JiVI_nibRY"
      }
    },
    {
      "cell_type": "code",
      "source": [
        "speechiness = df['speechiness_%']\n",
        "\n",
        "mean = speechiness.mean()\n",
        "median = speechiness.median()\n",
        "standard = speechiness.std()\n",
        "minimum = speechiness.min()\n",
        "maximum = speechiness.max()\n",
        "\n",
        "print(f\"mean: {mean}\")\n",
        "print(f\"median: {median}\")\n",
        "print(f\"standard: {standard}\")\n",
        "print(f\"minimum: {minimum}\")\n",
        "print(f\"maximum: {maximum}\")"
      ],
      "metadata": {
        "colab": {
          "base_uri": "https://localhost:8080/"
        },
        "id": "Daqxp_sXia9_",
        "outputId": "0616a7e6-b9f9-48d8-a431-9690d3824a03"
      },
      "execution_count": 44,
      "outputs": [
        {
          "output_type": "stream",
          "name": "stdout",
          "text": [
            "mean: 10.131164742917104\n",
            "median: 6.0\n",
            "standard: 9.912887609763244\n",
            "minimum: 2\n",
            "maximum: 64\n"
          ]
        }
      ]
    }
  ],
  "metadata": {
    "kernelspec": {
      "display_name": "Python 3",
      "language": "python",
      "name": "python3"
    },
    "language_info": {
      "codemirror_mode": {
        "name": "ipython",
        "version": 3
      },
      "file_extension": ".py",
      "mimetype": "text/x-python",
      "name": "python",
      "nbconvert_exporter": "python",
      "pygments_lexer": "ipython3",
      "version": "3.10.12"
    },
    "colab": {
      "provenance": []
    }
  },
  "nbformat": 4,
  "nbformat_minor": 0
}