{
  "cells": [
    {
      "cell_type": "markdown",
      "metadata": {
        "id": "A5ek16KJYjG6"
      },
      "source": [
        "#### Preparação"
      ]
    },
    {
      "cell_type": "code",
      "execution_count": null,
      "metadata": {
        "colab": {
          "base_uri": "https://localhost:8080/"
        },
        "id": "-VAwg4zGYjG7",
        "outputId": "6423aa95-2a88-4eb2-a80b-9ba5767fe0e3"
      },
      "outputs": [],
      "source": [
        "import pandas as pd\n",
        "\n",
        "df = pd.read_csv('./Popular_Spotify_Songs.csv', encoding='latin-1')\n",
        "\n",
        "print(df)\n",
        "\n",
        "df['streams'] = pd.to_numeric(df['streams'], errors='coerce').astype('Int64')"
      ]
    },
    {
      "cell_type": "markdown",
      "metadata": {
        "id": "EbQfyFhsa42P"
      },
      "source": [
        "### Variáveis da população"
      ]
    },
    {
      "cell_type": "code",
      "execution_count": null,
      "metadata": {
        "colab": {
          "base_uri": "https://localhost:8080/"
        },
        "id": "oex3iAbYbE2q",
        "outputId": "87f10c24-ae33-497d-9080-9b8ef3b1cc4d"
      },
      "outputs": [],
      "source": [
        "df.dtypes"
      ]
    },
    {
      "cell_type": "markdown",
      "metadata": {
        "id": "LFkGDKD_YjG-"
      },
      "source": [
        "#### Média"
      ]
    },
    {
      "cell_type": "code",
      "execution_count": null,
      "metadata": {
        "colab": {
          "base_uri": "https://localhost:8080/"
        },
        "id": "TycRBY4qYjG-",
        "outputId": "f96fee62-45e4-45af-ba27-cf989079a77a"
      },
      "outputs": [],
      "source": [
        "df['streams'].mean()"
      ]
    },
    {
      "cell_type": "markdown",
      "metadata": {
        "id": "4-fP3Hz6YjG-"
      },
      "source": [
        "#### Desvio padrão"
      ]
    },
    {
      "cell_type": "code",
      "execution_count": null,
      "metadata": {
        "colab": {
          "base_uri": "https://localhost:8080/"
        },
        "id": "vBw68AH1YjG-",
        "outputId": "54d7f451-6392-4d1e-92d6-e985ba4929e5"
      },
      "outputs": [],
      "source": [
        "df['streams'].std()"
      ]
    },
    {
      "cell_type": "markdown",
      "metadata": {
        "id": "LRjXvqkAYjG-"
      },
      "source": [
        "#### Mínimo e máximo"
      ]
    },
    {
      "cell_type": "code",
      "execution_count": null,
      "metadata": {
        "colab": {
          "base_uri": "https://localhost:8080/"
        },
        "id": "VaRulA8eYjG-",
        "outputId": "d0f0f5b0-e263-47c4-c909-8b19d4f6d37e"
      },
      "outputs": [],
      "source": [
        "print(df['streams'].min())\n",
        "print(df['streams'].max())"
      ]
    },
    {
      "cell_type": "markdown",
      "metadata": {
        "id": "IW8acofWYjG_"
      },
      "source": [
        "#### Scatter"
      ]
    },
    {
      "cell_type": "code",
      "execution_count": null,
      "metadata": {
        "colab": {
          "base_uri": "https://localhost:8080/",
          "height": 472
        },
        "id": "N7aJhHi9YjG_",
        "outputId": "1766296d-1aef-494e-f061-bd43faa1c5f3"
      },
      "outputs": [],
      "source": [
        "import matplotlib.pyplot as plt\n",
        "\n",
        "df['streams'].plot(kind='hist', bins=5)\n",
        "plt.title('Streams distribution')\n",
        "plt.xlabel('Streams')\n",
        "plt.ylabel('Frequency')\n",
        "\n",
        "plt.savefig('streams_distribution_histogram.png', dpi=300, format='png')\n",
        "\n",
        "plt.show()"
      ]
    },
    {
      "cell_type": "markdown",
      "metadata": {
        "id": "t-XXC6KsYjG_"
      },
      "source": [
        "#### Boxplot"
      ]
    },
    {
      "cell_type": "code",
      "execution_count": null,
      "metadata": {
        "colab": {
          "base_uri": "https://localhost:8080/",
          "height": 452
        },
        "id": "qvn5ZMrpYjG_",
        "outputId": "f62a5a91-7c77-43af-be70-f87287044474"
      },
      "outputs": [],
      "source": [
        "df.boxplot(column=['streams'])\n",
        "plt.title('Box Plot for Streams')\n",
        "\n",
        "plt.savefig('streams_boxplot.png', dpi=300, format='png')\n",
        "\n",
        "plt.show()"
      ]
    },
    {
      "cell_type": "markdown",
      "metadata": {
        "id": "reUn39Z5d056"
      },
      "source": [
        "### Danceability"
      ]
    },
    {
      "cell_type": "code",
      "execution_count": null,
      "metadata": {
        "colab": {
          "base_uri": "https://localhost:8080/"
        },
        "id": "42aNitNoeAhe",
        "outputId": "d66e2042-1691-444d-bc3a-121d951c4bf2"
      },
      "outputs": [],
      "source": [
        "danceability_column = df['danceability_%']\n",
        "\n",
        "danceability_column.describe()\n",
        "# mean = danceability_column.mean()\n",
        "# median = danceability_column.median()\n",
        "# standard = danceability_column.std()\n",
        "# minimum = danceability_column.min()\n",
        "# maximum = danceability_column.max()\n",
        "\n",
        "# print(f\"mean: {mean}\")\n",
        "# print(f\"median: {median}\")\n",
        "# print(f\"standard: {standard}\")\n",
        "# print(f\"minimum: {minimum}\")\n",
        "# print(f\"maximum: {maximum}\")"
      ]
    },
    {
      "cell_type": "markdown",
      "metadata": {
        "id": "brYc3dFfhlGP"
      },
      "source": [
        "### Energy"
      ]
    },
    {
      "cell_type": "code",
      "execution_count": null,
      "metadata": {
        "colab": {
          "base_uri": "https://localhost:8080/"
        },
        "id": "UgGzwNgyhm0m",
        "outputId": "4623b23a-9922-4d65-b3ac-af136f37cd6b"
      },
      "outputs": [],
      "source": [
        "energy = df['energy_%']\n",
        "\n",
        "energy.describe()\n",
        "# mean = energy.mean()\n",
        "# median = energy.median()\n",
        "# standard = energy.std()\n",
        "# minimum = energy.min()\n",
        "# maximum = energy.max()\n",
        "\n",
        "# print(f\"mean: {mean}\")\n",
        "# print(f\"median: {median}\")\n",
        "# print(f\"standard: {standard}\")\n",
        "# print(f\"minimum: {minimum}\")\n",
        "# print(f\"maximum: {maximum}\")"
      ]
    },
    {
      "cell_type": "markdown",
      "metadata": {
        "id": "q2k4gSRZh4Ai"
      },
      "source": [
        "### Acousticness"
      ]
    },
    {
      "cell_type": "code",
      "execution_count": null,
      "metadata": {
        "colab": {
          "base_uri": "https://localhost:8080/"
        },
        "id": "jdH1Uzj7h9Xw",
        "outputId": "2cc6d73b-029d-4f56-c0b4-3da4ecaea85d"
      },
      "outputs": [],
      "source": [
        "acousticness = df['acousticness_%']\n",
        "\n",
        "acousticness.describe()\n",
        "# mean = acousticness.mean()\n",
        "# median = acousticness.median()\n",
        "# standard = acousticness.std()\n",
        "# minimum = acousticness.min()\n",
        "# maximum = acousticness.max()\n",
        "\n",
        "\n",
        "# print(f\"mean: {mean}\")\n",
        "# print(f\"median: {median}\")\n",
        "# print(f\"standard: {standard}\")\n",
        "# print(f\"minimum: {minimum}\")\n",
        "# print(f\"maximum: {maximum}\")"
      ]
    },
    {
      "cell_type": "markdown",
      "metadata": {
        "id": "s3_bDNCTiNy6"
      },
      "source": [
        "### In Spotify playlists"
      ]
    },
    {
      "cell_type": "code",
      "execution_count": null,
      "metadata": {
        "colab": {
          "base_uri": "https://localhost:8080/"
        },
        "id": "wB1fHVuFiQE0",
        "outputId": "eb9e41e0-6c98-4f28-e250-c8a2435535a6"
      },
      "outputs": [],
      "source": [
        "in_spotify_playlists = df['in_spotify_playlists']\n",
        "\n",
        "in_spotify_playlists.describe()\n",
        "# mean = in_spotify_playlists.mean()\n",
        "# median = in_spotify_playlists.median()\n",
        "# standard = in_spotify_playlists.std()\n",
        "# minimum = in_spotify_playlists.min()\n",
        "# maximum = in_spotify_playlists.max()\n",
        "\n",
        "# print(f\"mean: {mean}\")\n",
        "# print(f\"median: {median}\")\n",
        "# print(f\"standard: {standard}\")\n",
        "# print(f\"minimum: {minimum}\")\n",
        "# print(f\"maximum: {maximum}\")"
      ]
    },
    {
      "cell_type": "markdown",
      "metadata": {
        "id": "k0JiVI_nibRY"
      },
      "source": [
        "### Speechiness"
      ]
    },
    {
      "cell_type": "code",
      "execution_count": null,
      "metadata": {
        "colab": {
          "base_uri": "https://localhost:8080/"
        },
        "id": "Daqxp_sXia9_",
        "outputId": "0616a7e6-b9f9-48d8-a431-9690d3824a03"
      },
      "outputs": [],
      "source": [
        "speechiness = df['speechiness_%']\n",
        "\n",
        "speechiness.describe()\n",
        "# mean = speechiness.mean()\n",
        "# median = speechiness.median()\n",
        "# standard = speechiness.std()\n",
        "# minimum = speechiness.min()\n",
        "# maximum = speechiness.max()\n",
        "\n",
        "# print(f\"mean: {mean}\")\n",
        "# print(f\"median: {median}\")\n",
        "# print(f\"standard: {standard}\")\n",
        "# print(f\"minimum: {minimum}\")\n",
        "# print(f\"maximum: {maximum}\")"
      ]
    },
    {
      "cell_type": "code",
      "execution_count": null,
      "metadata": {},
      "outputs": [],
      "source": []
    },
    {
      "cell_type": "markdown",
      "metadata": {},
      "source": [
        "### Calcular correlação"
      ]
    },
    {
      "cell_type": "code",
      "execution_count": null,
      "metadata": {},
      "outputs": [],
      "source": [
        "%pip install seaborn"
      ]
    },
    {
      "cell_type": "code",
      "execution_count": null,
      "metadata": {},
      "outputs": [],
      "source": [
        "import seaborn as sns\n",
        "numeric_columns = ['streams', 'danceability_%', 'acousticness_%', 'in_spotify_charts', 'speechiness_%']\n",
        "\n",
        "correlation_matrix = df[numeric_columns].corr()\n",
        "\n",
        "plt.figure(figsize=(14, 10))\n",
        "\n",
        "sns.heatmap(correlation_matrix, annot=True, cmap='coolwarm', fmt='.2f', linewidths=.5)\n",
        "\n",
        "plt.title('Matriz de Correlação entre Variáveis')\n",
        "\n",
        "plt.show()"
      ]
    }
  ],
  "metadata": {
    "colab": {
      "provenance": []
    },
    "kernelspec": {
      "display_name": "Python 3",
      "language": "python",
      "name": "python3"
    },
    "language_info": {
      "codemirror_mode": {
        "name": "ipython",
        "version": 3
      },
      "file_extension": ".py",
      "mimetype": "text/x-python",
      "name": "python",
      "nbconvert_exporter": "python",
      "pygments_lexer": "ipython3",
      "version": "3.11.8"
    }
  },
  "nbformat": 4,
  "nbformat_minor": 0
}
